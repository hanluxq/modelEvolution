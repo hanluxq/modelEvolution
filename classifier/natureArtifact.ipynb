{
 "cells": [
  {
   "cell_type": "code",
   "source": [
    "!pip install transformers seqeval shap "
   ],
   "metadata": {
    "id": "kbqnpqGWQBW8"
   },
   "execution_count": null,
   "outputs": []
  },
  {
   "cell_type": "code",
   "execution_count": 2,
   "outputs": [],
   "source": [
    "import pandas as pd\n",
    "import numpy as np\n",
    "import torch\n",
    "import transformers\n",
    "import sys\n",
    "import seqeval\n",
    "import os\n",
    "import spacy\n",
    "import shap\n",
    "import scipy as sp"
   ],
   "metadata": {
    "id": "0TIuwWNCPjBr",
    "executionInfo": {
     "status": "ok",
     "timestamp": 1685540176004,
     "user_tz": -480,
     "elapsed": 21408,
     "user": {
      "displayName": "lu han",
      "userId": "00064302419450254877"
     }
    }
   }
  },
  {
   "cell_type": "code",
   "source": [
    "from google.colab import drive\n",
    "drive.mount('/content/drive')"
   ],
   "metadata": {
    "colab": {
     "base_uri": "https://localhost:8080/"
    },
    "id": "7WCJup8fQbl5",
    "executionInfo": {
     "status": "ok",
     "timestamp": 1685540200810,
     "user_tz": -480,
     "elapsed": 24817,
     "user": {
      "displayName": "lu han",
      "userId": "00064302419450254877"
     }
    },
    "outputId": "bbd18689-1343-4186-a2d6-9ead728f6e34"
   },
   "execution_count": 3,
   "outputs": [
    {
     "output_type": "stream",
     "name": "stdout",
     "text": [
      "Mounted at /content/drive\n"
     ]
    }
   ]
  },
  {
   "cell_type": "markdown",
   "source": [
    "## 加载模型"
   ],
   "metadata": {
    "collapsed": false,
    "id": "fIcUhT28PjBt"
   }
  },
  {
   "cell_type": "code",
   "execution_count": null,
   "metadata": {
    "collapsed": true,
    "id": "c9AffX37PjBv"
   },
   "outputs": [],
   "source": [
    "remote = True\n",
    "# 设置设备\n",
    "device = torch.device(\"cuda\" if torch.cuda.is_available() else \"cpu\")\n",
    "print(device)\n",
    "# 加载模型\n",
    "# 加载预训练模型\n",
    "model_name = 'bert-base-uncased' # 预训练模型名字\n",
    "tokenizer = transformers.BertTokenizer.from_pretrained(model_name)\n",
    "model = transformers.BertForSequenceClassification.from_pretrained(model_name, num_labels=2) # 需要预测的类别数为2\n",
    "optimizer = transformers.AdamW(model.parameters(), lr=2e-5, eps=1e-8)\n",
    "if remote:\n",
    "  os.chdir('/content/drive/MyDrive/ModelDebug')\n",
    "  checkpoint = torch.load('classifier/model.pt',map_location=torch.device(device))\n",
    "  df = pd.read_csv('classifier/textNFR.csv')\n",
    "  #df = pd.read_csv('classifier/new_dataset2.csv')\n",
    "  #os.chdir('examples')\n",
    "  from examples.infer_softmax_ner import predict\n",
    "else:\n",
    "  checkpoint = torch.load('model.pt',map_location=torch.device(device))\n",
    "  os.chdir('../classifier')\n",
    "  df = pd.read_csv('textNFR.csv')\n",
    "  from examples.infer_softmax_ner import predict\n",
    "model.load_state_dict(checkpoint['model_state_dict'])\n",
    "optimizer.load_state_dict(checkpoint['optimizer_state_dict'])\n",
    "model.eval()\n",
    "model.to(device)"
   ]
  },
  {
   "cell_type": "markdown",
   "source": [
    "# 执行模型优化"
   ],
   "metadata": {
    "collapsed": false,
    "id": "RtsMYwTLPjBw"
   }
  },
  {
   "cell_type": "markdown",
   "source": [
    "## 可解释性分析"
   ],
   "metadata": {
    "collapsed": false,
    "id": "6UVNS1kbPjBw"
   }
  },
  {
   "cell_type": "code",
   "execution_count": 5,
   "outputs": [],
   "source": [
    "def f(text):\n",
    "    #输入文本，返回预测值\n",
    "    tv = torch.tensor([tokenizer.encode(t, padding='max_length', max_length=128, truncation=True) for t in text]).to(device)\n",
    "    attention_mask = (tv!=0).type(torch.int64).to(device)\n",
    "    outputs = model(tv,attention_mask=attention_mask)[0].detach().cpu().numpy()\n",
    "    scores = (np.exp(outputs).T / np.exp(outputs).sum(-1)).T\n",
    "    val = sp.special.logit(scores)\n",
    "    return val"
   ],
   "metadata": {
    "id": "NC7WWC7gPjBx",
    "executionInfo": {
     "status": "ok",
     "timestamp": 1685540255728,
     "user_tz": -480,
     "elapsed": 2,
     "user": {
      "displayName": "lu han",
      "userId": "00064302419450254877"
     }
    }
   }
  },
  {
   "cell_type": "code",
   "execution_count": 6,
   "outputs": [],
   "source": [
    "# 使用 shap 进行可解释性分析\n",
    "explainer = shap.Explainer(f,tokenizer,output_names=[\"FR\",\"NFR\"])"
   ],
   "metadata": {
    "id": "aav-qdpVPjBx",
    "executionInfo": {
     "status": "ok",
     "timestamp": 1685540258375,
     "user_tz": -480,
     "elapsed": 2,
     "user": {
      "displayName": "lu han",
      "userId": "00064302419450254877"
     }
    }
   }
  },
  {
   "cell_type": "code",
   "execution_count": 7,
   "outputs": [],
   "source": [
    "#text列表转json列表\n",
    "def toJson(text):\n",
    "    return {'sent':text}\n",
    "def getTokens(doc):\n",
    "    nlp = spacy.load('en_core_web_sm')\n",
    "    tokens= []\n",
    "    doc = nlp(doc)\n",
    "    for t in doc:\n",
    "        tokens.append(t.text)\n",
    "    return tokens\n",
    "#抽取每个样例的关注点\n",
    "#输入data是一个dict，dict中有一个key为sent，value为句子\n",
    "def getConcerns(data):\n",
    "    res = []\n",
    "    tokens = getTokens(data['sent'])\n",
    "    cons = predict([data])[0]\n",
    "    if len(tokens)!=len(cons):\n",
    "        print(\"tokens和concerns长度不一致\"+str(len(tokens))+\" \"+str(len(cons)))\n",
    "    for t,c in zip(tokens,cons):\n",
    "        if c!='O':\n",
    "            res.append(t)\n",
    "    return res\n",
    "#计算重要特征，返回特征与重要性\n",
    "def important(shap_values):\n",
    "    reason = []\n",
    "    for ele in shap_values:\n",
    "        sum =0\n",
    "        for num in ele.values[0]:\n",
    "            sum += abs(num[0]) + abs(num[1])  #两个分类的重要性之和\n",
    "        avg = sum/(len(ele.values[0])*2)\n",
    "        res = []\n",
    "        for values,datas in zip(ele.values[0],ele.data[0]):\n",
    "            cur = []\n",
    "            if abs(values[0])+abs(values[1])>=avg*2:\n",
    "                res.append(datas)\n",
    "        reason.append(res)\n",
    "    return reason\n",
    "#检测异常特征(重要但是不是关注点)\n",
    "def errCheck(importance,concerns):\n",
    "    errList = []\n",
    "    for imp,con in zip(importance,concerns):\n",
    "        imp=imp.strip()\n",
    "        if(imp in concerns): continue\n",
    "        else : errList.append(imp)\n",
    "    return errList\n",
    "def createNewDataset(dataset,label):\n",
    "    new_dataset = []\n",
    "    index = 0\n",
    "    for d,l in zip(dataset,label):\n",
    "        try:\n",
    "            ls = []\n",
    "            val = explainer([d])  #计算每个样例的shap值\n",
    "            imp = important([val])     #计算每个样例的重要单词\n",
    "            cons = getConcerns(toJson(d))  #计算每个样例的关注点单词\n",
    "            errlist = errCheck(imp[0],cons)  #计算每个样例的异常单词\n",
    "            for e in errlist:\n",
    "                d= d.replace(e,'')\n",
    "            ls.append(index)\n",
    "            ls.append(d)\n",
    "            ls.append(str(l))\n",
    "            new_dataset.append(ls)\n",
    "            index+=1\n",
    "        except:\n",
    "            print(\"error in sent:\"+d)\n",
    "            continue\n",
    "    return new_dataset"
   ],
   "metadata": {
    "id": "3QW_vIcFPjBx",
    "executionInfo": {
     "status": "ok",
     "timestamp": 1685540277398,
     "user_tz": -480,
     "elapsed": 576,
     "user": {
      "displayName": "lu han",
      "userId": "00064302419450254877"
     }
    }
   }
  },
  {
   "cell_type": "code",
   "execution_count": null,
   "outputs": [],
   "source": [
    "import logging\n",
    "logging.disable(logging.CRITICAL)\n",
    "dataset = df['RequirementText']\n",
    "label = df['NFR']\n",
    "new_dataset = createNewDataset(dataset,label)\n",
    "print(new_dataset)\n",
    "newdf = pd.DataFrame(new_dataset, columns=['id','RequirementText','NFR'])\n",
    "newdf.to_csv('classifier/new_dataset3.csv',index=False)"
   ],
   "metadata": {
    "id": "MjiYimloPjBy"
   }
  },
  {
   "cell_type": "code",
   "source": [
    "#test\n",
    "df = pd.read_csv('classifier/textNFR.csv')\n",
    "dataset = df['RequirementText']\n",
    "label = df['NFR']\n",
    "val = explainer([dataset[0]])\n",
    "val"
   ],
   "metadata": {
    "colab": {
     "base_uri": "https://localhost:8080/"
    },
    "id": "7gDHCJHeB5ki",
    "executionInfo": {
     "status": "ok",
     "timestamp": 1685541925494,
     "user_tz": -480,
     "elapsed": 4649,
     "user": {
      "displayName": "lu han",
      "userId": "00064302419450254877"
     }
    },
    "outputId": "c59c0471-f805-4193-b772-df98867cc4a0"
   },
   "execution_count": 9,
   "outputs": [
    {
     "output_type": "execute_result",
     "data": {
      "text/plain": [
       ".values =\n",
       "array([[[-8.56816769e-08,  2.98023224e-08],\n",
       "        [-8.30126181e-03,  8.30119289e-03],\n",
       "        [ 4.62826065e-02, -4.62825246e-02],\n",
       "        [ 5.46703299e-01, -5.46703018e-01],\n",
       "        [ 2.42516067e-01, -2.42515944e-01],\n",
       "        [-1.53207369e-01,  1.53207537e-01],\n",
       "        [-2.23761378e-02,  2.23757704e-02],\n",
       "        [ 7.35424962e-02, -7.35422415e-02],\n",
       "        [-3.13178962e-01,  3.13179230e-01],\n",
       "        [-1.30881980e+00,  1.30881979e+00],\n",
       "        [-1.45185611e+00,  1.45185629e+00],\n",
       "        [ 1.24453679e-02, -1.24457479e-02],\n",
       "        [ 1.19209290e-07, -4.76837158e-07]]])\n",
       "\n",
       ".base_values =\n",
       "array([[-0.57559139,  0.57559127]])\n",
       "\n",
       ".data =\n",
       "(array(['', ' the', ' system', ' shall', ' ref', 'resh', ' the',\n",
       "       ' display', ' every', ' 60', ' seconds', ' .', ''], dtype=object),)"
      ]
     },
     "metadata": {},
     "execution_count": 9
    }
   ]
  },
  {
   "cell_type": "code",
   "source": [
    "df = pd.read_csv('classifier/new_dataset1.csv')\n",
    "df = df['RequirementText']\n",
    "d = df[0]\n",
    "val = explainer([d])\n",
    "print(val)\n",
    "imp = important([val])     #计算每个样例的重要单词\n",
    "print(imp)\n",
    "cons = getConcerns(toJson(d))  #计算每个样例的关注点单词\n",
    "print(cons)\n",
    "errlist = errCheck(imp[0],cons)  #计算每个样例的异常单词\n",
    "print(errlist)"
   ],
   "metadata": {
    "colab": {
     "base_uri": "https://localhost:8080/"
    },
    "id": "mijdbzrtNbvM",
    "executionInfo": {
     "status": "ok",
     "timestamp": 1685543504489,
     "user_tz": -480,
     "elapsed": 5812,
     "user": {
      "displayName": "lu han",
      "userId": "00064302419450254877"
     }
    },
    "outputId": "5a54695c-4e12-4be5-af4b-c7aad1b69d81"
   },
   "execution_count": 13,
   "outputs": [
    {
     "output_type": "stream",
     "name": "stdout",
     "text": [
      ".values =\n",
      "array([[[ 2.04890966e-08, -1.60187483e-07],\n",
      "        [-5.35012297e-02,  5.35015855e-02],\n",
      "        [-2.22003335e-01,  2.22003000e-01],\n",
      "        [ 2.23954943e-01, -2.23955413e-01],\n",
      "        [-4.49146302e-02,  4.49145343e-02],\n",
      "        [-2.61115660e-02,  2.61117602e-02],\n",
      "        [ 3.16016995e-01, -3.16017278e-01],\n",
      "        [-2.02056801e-01,  2.02056764e-01],\n",
      "        [-1.21030352e+00,  1.21030365e+00],\n",
      "        [-1.11217586e+00,  1.11217634e+00],\n",
      "        [ 4.50553969e-02, -4.50552478e-02],\n",
      "        [ 2.98023224e-07,  0.00000000e+00]]])\n",
      "\n",
      ".base_values =\n",
      "array([[-0.52282721,  0.52282721]])\n",
      "\n",
      ".data =\n",
      "(array(['', ' the', ' system', ' ref', 'resh', ' the', ' display',\n",
      "       ' every', ' 60', ' seconds', ' .', ''], dtype=object),)\n",
      "[[' display', ' 60', ' seconds']]\n"
     ]
    },
    {
     "output_type": "stream",
     "name": "stderr",
     "text": [
      "Evaluating: 100%|██████████| 1/1 [00:00<00:00, 13.37it/s]"
     ]
    },
    {
     "output_type": "stream",
     "name": "stdout",
     "text": [
      "tokens和concerns长度不一致10 9\n",
      "[' ', 'refresh', 'the', 'display', 'every', '60']\n",
      "['seconds']\n"
     ]
    },
    {
     "output_type": "stream",
     "name": "stderr",
     "text": [
      "\n"
     ]
    }
   ]
  }
 ],
 "metadata": {
  "kernelspec": {
   "display_name": "Python 3",
   "language": "python",
   "name": "python3"
  },
  "language_info": {
   "codemirror_mode": {
    "name": "ipython",
    "version": 2
   },
   "file_extension": ".py",
   "mimetype": "text/x-python",
   "name": "python",
   "nbconvert_exporter": "python",
   "pygments_lexer": "ipython2",
   "version": "2.7.6"
  },
  "colab": {
   "provenance": [],
   "gpuType": "T4"
  },
  "accelerator": "GPU",
  "gpuClass": "standard"
 },
 "nbformat": 4,
 "nbformat_minor": 0
}
